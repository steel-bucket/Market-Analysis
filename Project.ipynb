{
 "cells": [
  {
   "cell_type": "code",
   "execution_count": 2,
   "metadata": {},
   "outputs": [],
   "source": [
    "from sklearn.datasets import make_circles\n",
    "import pandas as pd\n",
    "import matplotlib.pyplot as plt\n",
    "import torch\n",
    "from sklearn.model_selection import train_test_split\n",
    "from torch import nn\n",
    "\n",
    "\n",
    "n_samples = 10000\n",
    "\n",
    "# Create circles\n",
    "X, y = make_circles(n_samples, noise=0.03, random_state=42)"
   ]
  },
  {
   "cell_type": "code",
   "execution_count": 3,
   "metadata": {},
   "outputs": [
    {
     "data": {
      "text/html": [
       "<div>\n",
       "<style scoped>\n",
       "    .dataframe tbody tr th:only-of-type {\n",
       "        vertical-align: middle;\n",
       "    }\n",
       "\n",
       "    .dataframe tbody tr th {\n",
       "        vertical-align: top;\n",
       "    }\n",
       "\n",
       "    .dataframe thead th {\n",
       "        text-align: right;\n",
       "    }\n",
       "</style>\n",
       "<table border=\"1\" class=\"dataframe\">\n",
       "  <thead>\n",
       "    <tr style=\"text-align: right;\">\n",
       "      <th></th>\n",
       "      <th>X1</th>\n",
       "      <th>X2</th>\n",
       "      <th>label</th>\n",
       "    </tr>\n",
       "  </thead>\n",
       "  <tbody>\n",
       "    <tr>\n",
       "      <th>0</th>\n",
       "      <td>0.046469</td>\n",
       "      <td>0.824778</td>\n",
       "      <td>1</td>\n",
       "    </tr>\n",
       "    <tr>\n",
       "      <th>1</th>\n",
       "      <td>1.005063</td>\n",
       "      <td>-0.433352</td>\n",
       "      <td>0</td>\n",
       "    </tr>\n",
       "    <tr>\n",
       "      <th>2</th>\n",
       "      <td>-0.583484</td>\n",
       "      <td>0.794528</td>\n",
       "      <td>0</td>\n",
       "    </tr>\n",
       "    <tr>\n",
       "      <th>3</th>\n",
       "      <td>0.984783</td>\n",
       "      <td>-0.325179</td>\n",
       "      <td>0</td>\n",
       "    </tr>\n",
       "    <tr>\n",
       "      <th>4</th>\n",
       "      <td>0.829930</td>\n",
       "      <td>-0.547223</td>\n",
       "      <td>0</td>\n",
       "    </tr>\n",
       "    <tr>\n",
       "      <th>5</th>\n",
       "      <td>-0.133929</td>\n",
       "      <td>0.776249</td>\n",
       "      <td>1</td>\n",
       "    </tr>\n",
       "    <tr>\n",
       "      <th>6</th>\n",
       "      <td>0.779197</td>\n",
       "      <td>0.645811</td>\n",
       "      <td>0</td>\n",
       "    </tr>\n",
       "    <tr>\n",
       "      <th>7</th>\n",
       "      <td>0.722955</td>\n",
       "      <td>0.173831</td>\n",
       "      <td>1</td>\n",
       "    </tr>\n",
       "    <tr>\n",
       "      <th>8</th>\n",
       "      <td>-0.121807</td>\n",
       "      <td>0.796951</td>\n",
       "      <td>1</td>\n",
       "    </tr>\n",
       "    <tr>\n",
       "      <th>9</th>\n",
       "      <td>0.849529</td>\n",
       "      <td>0.505678</td>\n",
       "      <td>0</td>\n",
       "    </tr>\n",
       "  </tbody>\n",
       "</table>\n",
       "</div>"
      ],
      "text/plain": [
       "         X1        X2  label\n",
       "0  0.046469  0.824778      1\n",
       "1  1.005063 -0.433352      0\n",
       "2 -0.583484  0.794528      0\n",
       "3  0.984783 -0.325179      0\n",
       "4  0.829930 -0.547223      0\n",
       "5 -0.133929  0.776249      1\n",
       "6  0.779197  0.645811      0\n",
       "7  0.722955  0.173831      1\n",
       "8 -0.121807  0.796951      1\n",
       "9  0.849529  0.505678      0"
      ]
     },
     "execution_count": 3,
     "metadata": {},
     "output_type": "execute_result"
    }
   ],
   "source": [
    "# Make DataFrame of circle data\n",
    "import pandas as pd\n",
    "circles = pd.DataFrame({\"X1\": X[:, 0],\n",
    "    \"X2\": X[:, 1],\n",
    "    \"label\": y\n",
    "})\n",
    "circles.head(10)"
   ]
  },
  {
   "cell_type": "code",
   "execution_count": 4,
   "metadata": {},
   "outputs": [
    {
     "data": {
      "text/plain": [
       "1    5000\n",
       "0    5000\n",
       "Name: label, dtype: int64"
      ]
     },
     "execution_count": 4,
     "metadata": {},
     "output_type": "execute_result"
    }
   ],
   "source": [
    "circles.label.value_counts()"
   ]
  },
  {
   "cell_type": "code",
   "execution_count": 5,
   "metadata": {},
   "outputs": [
    {
     "data": {
      "image/png": "[encoded data removed]",
      "text/plain": [
       "<Figure size 432x288 with 1 Axes>"
      ]
     },
     "metadata": {
      "needs_background": "light"
     },
     "output_type": "display_data"
    }
   ],
   "source": [
    "plt.scatter(x=X[:, 0], \n",
    "            y=X[:, 1], \n",
    "            c=y, \n",
    "            cmap=plt.cm.RdYlBu);"
   ]
  },
  {
   "cell_type": "code",
   "execution_count": 6,
   "metadata": {},
   "outputs": [
    {
     "data": {
      "text/plain": [
       "(tensor([[ 0.0465,  0.8248],\n",
       "         [ 1.0051, -0.4334],\n",
       "         [-0.5835,  0.7945],\n",
       "         [ 0.9848, -0.3252],\n",
       "         [ 0.8299, -0.5472]]),\n",
       " tensor([1., 0., 0., 0., 0.]))"
      ]
     },
     "execution_count": 6,
     "metadata": {},
     "output_type": "execute_result"
    }
   ],
   "source": [
    "X = torch.from_numpy(X).type(torch.float)\n",
    "y = torch.from_numpy(y).type(torch.float)\n",
    "\n",
    "X[:5], y[:5]"
   ]
  },
  {
   "cell_type": "code",
   "execution_count": 7,
   "metadata": {},
   "outputs": [
    {
     "data": {
      "text/plain": [
       "(8000, 2000, 8000, 2000)"
      ]
     },
     "execution_count": 7,
     "metadata": {},
     "output_type": "execute_result"
    }
   ],
   "source": [
    "X_train, X_test, y_train, y_test = train_test_split(X, y, test_size=0.2, random_state=42) \n",
    "\n",
    "len(X_train), len(X_test), len(y_train), len(y_test)"
   ]
  },
  {
   "cell_type": "code",
   "execution_count": 8,
   "metadata": {},
   "outputs": [
    {
     "data": {
      "text/plain": [
       "CircleModel(\n",
       "  (layer_1): Linear(in_features=2, out_features=5, bias=True)\n",
       "  (layer15): ReLU()\n",
       "  (layer_2): Linear(in_features=5, out_features=5, bias=True)\n",
       "  (layer25): ReLU()\n",
       "  (layer_3): Linear(in_features=5, out_features=1, bias=True)\n",
       ")"
      ]
     },
     "execution_count": 8,
     "metadata": {},
     "output_type": "execute_result"
    }
   ],
   "source": [
    "class CircleModel(nn.Module):\n",
    "    def __init__(self):\n",
    "        super().__init__()\n",
    "        self.layer_1 = nn.Linear(in_features=2, out_features=5)\n",
    "        self.layer15 = nn.ReLU()\n",
    "        self.layer_2 = nn.Linear(in_features=5, out_features=5)\n",
    "        self.layer25 = nn.ReLU()\n",
    "        self.layer_3 = nn.Linear(in_features=5, out_features=1)\n",
    "    \n",
    "    def forward(self, x):\n",
    "        return self.layer_3(self.layer25(self.layer_2(self.layer15(self.layer_1(x))))) \n",
    "model = CircleModel()\n",
    "model"
   ]
  },
  {
   "cell_type": "code",
   "execution_count": 9,
   "metadata": {},
   "outputs": [],
   "source": [
    "# Setup loss and optimizer \n",
    "loss_fn = nn.BCEWithLogitsLoss()\n",
    "optimizer = torch.optim.Adam(model.parameters(), lr=1e-4, weight_decay=1e-5)\n",
    "### L2 Regularization"
   ]
  },
  {
   "cell_type": "code",
   "execution_count": 10,
   "metadata": {},
   "outputs": [
    {
     "name": "stdout",
     "output_type": "stream",
     "text": [
      "Epoch: 0 | Loss: 0.69268| Test Loss: 0.69244\n",
      "Epoch: 100 | Loss: 0.69219| Test Loss: 0.69209\n",
      "Epoch: 200 | Loss: 0.69165| Test Loss: 0.69158\n",
      "Epoch: 300 | Loss: 0.69114| Test Loss: 0.69108\n",
      "Epoch: 400 | Loss: 0.69049| Test Loss: 0.69042\n",
      "Epoch: 500 | Loss: 0.68992| Test Loss: 0.68986\n",
      "Epoch: 600 | Loss: 0.68934| Test Loss: 0.68928\n",
      "Epoch: 700 | Loss: 0.68873| Test Loss: 0.68865\n",
      "Epoch: 800 | Loss: 0.68807| Test Loss: 0.68797\n",
      "Epoch: 900 | Loss: 0.68736| Test Loss: 0.68723\n",
      "Epoch: 1000 | Loss: 0.68659| Test Loss: 0.68642\n",
      "Epoch: 1100 | Loss: 0.68576| Test Loss: 0.68555\n",
      "Epoch: 1200 | Loss: 0.68487| Test Loss: 0.68460\n",
      "Epoch: 1300 | Loss: 0.68392| Test Loss: 0.68361\n",
      "Epoch: 1400 | Loss: 0.68292| Test Loss: 0.68255\n",
      "Epoch: 1500 | Loss: 0.68186| Test Loss: 0.68142\n",
      "Epoch: 1600 | Loss: 0.68073| Test Loss: 0.68023\n",
      "Epoch: 1700 | Loss: 0.67952| Test Loss: 0.67895\n",
      "Epoch: 1800 | Loss: 0.67830| Test Loss: 0.67764\n",
      "Epoch: 1900 | Loss: 0.67703| Test Loss: 0.67630\n",
      "Epoch: 2000 | Loss: 0.67571| Test Loss: 0.67492\n",
      "Epoch: 2100 | Loss: 0.67438| Test Loss: 0.67349\n",
      "Epoch: 2200 | Loss: 0.67302| Test Loss: 0.67200\n",
      "Epoch: 2300 | Loss: 0.67162| Test Loss: 0.67050\n",
      "Epoch: 2400 | Loss: 0.67018| Test Loss: 0.66894\n",
      "Epoch: 2500 | Loss: 0.66870| Test Loss: 0.66736\n",
      "Epoch: 2600 | Loss: 0.66717| Test Loss: 0.66575\n",
      "Epoch: 2700 | Loss: 0.66560| Test Loss: 0.66411\n",
      "Epoch: 2800 | Loss: 0.66400| Test Loss: 0.66246\n",
      "Epoch: 2900 | Loss: 0.66235| Test Loss: 0.66077\n",
      "Epoch: 3000 | Loss: 0.66066| Test Loss: 0.65905\n",
      "Epoch: 3100 | Loss: 0.65893| Test Loss: 0.65728\n",
      "Epoch: 3200 | Loss: 0.65715| Test Loss: 0.65549\n",
      "Epoch: 3300 | Loss: 0.65532| Test Loss: 0.65367\n",
      "Epoch: 3400 | Loss: 0.65343| Test Loss: 0.65180\n",
      "Epoch: 3500 | Loss: 0.65149| Test Loss: 0.64987\n",
      "Epoch: 3600 | Loss: 0.64949| Test Loss: 0.64790\n",
      "Epoch: 3700 | Loss: 0.64744| Test Loss: 0.64586\n",
      "Epoch: 3800 | Loss: 0.64531| Test Loss: 0.64380\n",
      "Epoch: 3900 | Loss: 0.64312| Test Loss: 0.64165\n",
      "Epoch: 4000 | Loss: 0.64082| Test Loss: 0.63943\n",
      "Epoch: 4100 | Loss: 0.63841| Test Loss: 0.63707\n",
      "Epoch: 4200 | Loss: 0.63539| Test Loss: 0.63416\n",
      "Epoch: 4300 | Loss: 0.63210| Test Loss: 0.63104\n",
      "Epoch: 4400 | Loss: 0.62869| Test Loss: 0.62791\n",
      "Epoch: 4500 | Loss: 0.62516| Test Loss: 0.62462\n",
      "Epoch: 4600 | Loss: 0.62153| Test Loss: 0.62123\n",
      "Epoch: 4700 | Loss: 0.61775| Test Loss: 0.61772\n",
      "Epoch: 4800 | Loss: 0.61386| Test Loss: 0.61412\n",
      "Epoch: 4900 | Loss: 0.60992| Test Loss: 0.61048\n",
      "Epoch: 5000 | Loss: 0.60592| Test Loss: 0.60674\n",
      "Epoch: 5100 | Loss: 0.60178| Test Loss: 0.60287\n",
      "Epoch: 5200 | Loss: 0.59750| Test Loss: 0.59888\n",
      "Epoch: 5300 | Loss: 0.59313| Test Loss: 0.59476\n",
      "Epoch: 5400 | Loss: 0.58868| Test Loss: 0.59057\n",
      "Epoch: 5500 | Loss: 0.58415| Test Loss: 0.58626\n",
      "Epoch: 5600 | Loss: 0.57957| Test Loss: 0.58189\n",
      "Epoch: 5700 | Loss: 0.57488| Test Loss: 0.57743\n",
      "Epoch: 5800 | Loss: 0.57010| Test Loss: 0.57283\n",
      "Epoch: 5900 | Loss: 0.56523| Test Loss: 0.56816\n",
      "Epoch: 6000 | Loss: 0.56027| Test Loss: 0.56340\n",
      "Epoch: 6100 | Loss: 0.55524| Test Loss: 0.55857\n",
      "Epoch: 6200 | Loss: 0.55015| Test Loss: 0.55371\n",
      "Epoch: 6300 | Loss: 0.54501| Test Loss: 0.54874\n",
      "Epoch: 6400 | Loss: 0.53983| Test Loss: 0.54369\n",
      "Epoch: 6500 | Loss: 0.53459| Test Loss: 0.53857\n",
      "Epoch: 6600 | Loss: 0.52927| Test Loss: 0.53334\n",
      "Epoch: 6700 | Loss: 0.52387| Test Loss: 0.52802\n",
      "Epoch: 6800 | Loss: 0.51845| Test Loss: 0.52266\n",
      "Epoch: 6900 | Loss: 0.51296| Test Loss: 0.51722\n",
      "Epoch: 7000 | Loss: 0.50743| Test Loss: 0.51172\n",
      "Epoch: 7100 | Loss: 0.50187| Test Loss: 0.50618\n",
      "Epoch: 7200 | Loss: 0.49628| Test Loss: 0.50061\n",
      "Epoch: 7300 | Loss: 0.49067| Test Loss: 0.49501\n",
      "Epoch: 7400 | Loss: 0.48504| Test Loss: 0.48939\n",
      "Epoch: 7500 | Loss: 0.47939| Test Loss: 0.48370\n",
      "Epoch: 7600 | Loss: 0.47373| Test Loss: 0.47799\n",
      "Epoch: 7700 | Loss: 0.46806| Test Loss: 0.47228\n",
      "Epoch: 7800 | Loss: 0.46237| Test Loss: 0.46655\n",
      "Epoch: 7900 | Loss: 0.45669| Test Loss: 0.46080\n",
      "Epoch: 8000 | Loss: 0.45102| Test Loss: 0.45507\n",
      "Epoch: 8100 | Loss: 0.44537| Test Loss: 0.44936\n",
      "Epoch: 8200 | Loss: 0.43970| Test Loss: 0.44365\n",
      "Epoch: 8300 | Loss: 0.43406| Test Loss: 0.43795\n",
      "Epoch: 8400 | Loss: 0.42843| Test Loss: 0.43228\n",
      "Epoch: 8500 | Loss: 0.42281| Test Loss: 0.42659\n",
      "Epoch: 8600 | Loss: 0.41721| Test Loss: 0.42093\n",
      "Epoch: 8700 | Loss: 0.41162| Test Loss: 0.41531\n",
      "Epoch: 8800 | Loss: 0.40607| Test Loss: 0.40973\n",
      "Epoch: 8900 | Loss: 0.40054| Test Loss: 0.40415\n",
      "Epoch: 9000 | Loss: 0.39503| Test Loss: 0.39863\n",
      "Epoch: 9100 | Loss: 0.38953| Test Loss: 0.39311\n",
      "Epoch: 9200 | Loss: 0.38408| Test Loss: 0.38764\n",
      "Epoch: 9300 | Loss: 0.37867| Test Loss: 0.38223\n",
      "Epoch: 9400 | Loss: 0.37329| Test Loss: 0.37688\n",
      "Epoch: 9500 | Loss: 0.36796| Test Loss: 0.37155\n",
      "Epoch: 9600 | Loss: 0.36266| Test Loss: 0.36627\n",
      "Epoch: 9700 | Loss: 0.35739| Test Loss: 0.36099\n",
      "Epoch: 9800 | Loss: 0.35216| Test Loss: 0.35575\n",
      "Epoch: 9900 | Loss: 0.34696| Test Loss: 0.35055\n"
     ]
    }
   ],
   "source": [
    "torch.manual_seed(42)\n",
    "epochs = 10000\n",
    "\n",
    "for epoch in range(epochs):\n",
    "    # 1. Forward pass\n",
    "    y_logits = model(X_train).squeeze()\n",
    "    y_pred = torch.round(torch.sigmoid(y_logits)) \n",
    "    \n",
    "    # 2. Calculate loss and accuracy\n",
    "    loss = loss_fn(y_logits, y_train) \n",
    "    \n",
    "    # 3. Optimizer zero grad\n",
    "    optimizer.zero_grad()\n",
    "\n",
    "    # 4. Loss backward\n",
    "    loss.backward()\n",
    "\n",
    "    # 5. Optimizer step\n",
    "    optimizer.step()\n",
    "\n",
    "    model.eval()\n",
    "    with torch.inference_mode():\n",
    "      test_logits = model(X_test).squeeze()\n",
    "      test_pred = torch.round(torch.sigmoid(test_logits))\n",
    "      test_loss = loss_fn(test_logits, y_test)\n",
    "\n",
    "    if epoch % 100 == 0:\n",
    "        print(f\"Epoch: {epoch} | Loss: {loss:.5f}| Test Loss: {test_loss:.5f}\")"
   ]
  },
  {
   "cell_type": "code",
   "execution_count": 11,
   "metadata": {},
   "outputs": [
    {
     "data": {
      "text/plain": [
       "(tensor([1., 1., 0., 1., 0., 1., 1., 1., 1., 1.]),\n",
       " tensor([1., 0., 0., 0., 0., 1., 0., 1., 1., 0.]))"
      ]
     },
     "execution_count": 11,
     "metadata": {},
     "output_type": "execute_result"
    }
   ],
   "source": [
    "model.eval()\n",
    "with torch.inference_mode():\n",
    "    y_preds = torch.round(torch.sigmoid(model(X_test))).squeeze()\n",
    "y_preds[:10], y[:10]"
   ]
  },
  {
   "cell_type": "code",
   "execution_count": 12,
   "metadata": {},
   "outputs": [
    {
     "name": "stdout",
     "output_type": "stream",
     "text": [
      "helper_functions.py already exists, skipping download\n"
     ]
    }
   ],
   "source": [
    "### Copied\n",
    "import requests\n",
    "from pathlib import Path \n",
    "\n",
    "# Download helper functions from Learn PyTorch repo (if not already downloaded)\n",
    "if Path(\"helper_functions.py\").is_file():\n",
    "  print(\"helper_functions.py already exists, skipping download\")\n",
    "else:\n",
    "  print(\"Downloading helper_functions.py\")\n",
    "  request = requests.get(\"https://raw.githubusercontent.com/mrdbourke/pytorch-deep-learning/main/helper_functions.py\")\n",
    "  with open(\"helper_functions.py\", \"wb\") as f:\n",
    "    f.write(request.content)\n",
    "\n",
    "from helper_functions import plot_predictions, plot_decision_boundary"
   ]
  },
  {
   "cell_type": "code",
   "execution_count": 13,
   "metadata": {},
   "outputs": [
    {
     "data": {
      "image/png": "[encoded data removed]",
      "text/plain": [
       "<Figure size 432x288 with 1 Axes>"
      ]
     },
     "metadata": {
      "needs_background": "light"
     },
     "output_type": "display_data"
    }
   ],
   "source": [
    "plot_decision_boundary(model, X_test, y_test) "
   ]
  },
  {
   "cell_type": "code",
   "execution_count": null,
   "metadata": {},
   "outputs": [],
   "source": []
  }
 ],
 "metadata": {
  "kernelspec": {
   "display_name": "Python 3",
   "language": "python",
   "name": "python3"
  },
  "language_info": {
   "codemirror_mode": {
    "name": "ipython",
    "version": 3
   },
   "file_extension": ".py",
   "mimetype": "text/x-python",
   "name": "python",
   "nbconvert_exporter": "python",
   "pygments_lexer": "ipython3",
   "version": "3.8.13"
  },
  "orig_nbformat": 4
 },
 "nbformat": 4,
 "nbformat_minor": 2
}
